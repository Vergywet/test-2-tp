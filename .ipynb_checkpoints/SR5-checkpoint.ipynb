{
 "cells": [
  {
   "cell_type": "markdown",
   "id": "c39699e1-9766-4a56-98af-b8988c8c37c2",
   "metadata": {},
   "source": [
    "Time Complexity:\n",
    "Bubble Sort has a time complexity of O(n^2), where 'n' is the number of elements in the list. This is because in the worst-case scenario, for each element in the array, the algorithm has to compare it with every other element, resulting in n*(n-1)/2 comparisons, which simplifies to O(n^2).\n",
    "\n",
    "In the best-case scenario, if the list is already sorted, the algorithm still needs to pass through the list once to confirm it's sorted, resulting in O(n) comparisons."
   ]
  },
  {
   "cell_type": "markdown",
   "id": "3352c888-9caa-46fc-abf4-3e057ae6f702",
   "metadata": {},
   "source": [
    "Space Complexity:\n",
    "The space complexity of bubble sort is O(1), meaning it uses a constant amount of extra space. This is because the sorting is done in-place, meaning\n",
    "the algorithm doesn't \n",
    "use any additional memory proportional to the size of the input\n",
    "list."
   ]
  },
  {
   "cell_type": "markdown",
   "id": "b7ad59f6-b74c-45ef-a547-462e4ed46e4b",
   "metadata": {},
   "source": [
    "Efficiency in Big-O Notation:\n",
    "Worst-case Time Complexity: O(n^2)\n",
    "Average-case Time Complexity: O(n^2)\n",
    "Best-case Time Complexity: O(n)\n",
    "Space Complexity: O(1)"
   ]
  }
 ],
 "metadata": {
  "kernelspec": {
   "display_name": "Python 3 (ipykernel)",
   "language": "python",
   "name": "python3"
  },
  "language_info": {
   "codemirror_mode": {
    "name": "ipython",
    "version": 3
   },
   "file_extension": ".py",
   "mimetype": "text/x-python",
   "name": "python",
   "nbconvert_exporter": "python",
   "pygments_lexer": "ipython3",
   "version": "3.11.7"
  }
 },
 "nbformat": 4,
 "nbformat_minor": 5
}
