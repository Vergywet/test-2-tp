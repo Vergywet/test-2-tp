{
 "cells": [
  {
   "cell_type": "markdown",
   "id": "4dd60522-0479-4207-92f2-39470a9f8b9f",
   "metadata": {},
   "source": [
    "Linear Search\n",
    "Linear search is a simple search algorithm that checks each element in a list sequentially until the target value is found or the end of the list is \n",
    "reached. \n",
    "\n",
    "-ime Complexity: O(n)\n",
    "- Description: In the worst case, linear search requires scanning through all n elements in the list, making its time complexity O(n). \n",
    "This means that the time taken to find the target value grows linearly with the size of the list.\n",
    "\n",
    "Example Use Case:\n",
    "Linear search is useful for small or unsorted datasets where implementing a more complex algorithm would not yield significant performance gains.\n",
    "\n",
    "\n",
    "Binary search is a more efficient search algorithm but requires the list to be sorted. It works by repeatedly dividing the search interval in half and comparing the target value to the middle element of the interval.\n",
    "\n",
    "- Time Complexity:O(log n)\n",
    "- Description: In the worst case, binary search reduces the search interval by half each time, leading to a time complexity of O(log n). This logarithmic growth rate means that the time taken to find the target value increases much more slowly compared to linear search as the size of the list increases.\n",
    "\n",
    "Example Use Case:\n",
    "Binary search is ideal for large, sorted datasets where rapid searching is required.\n",
    "\n",
    " Performance Comparison\n",
    "Binary Search Performs Faster:\n",
    "\n",
    "1. Efficiency in Large Datasets: For large datasets, binary search significantly outperforms linear search. The logarithmic time complexity of\n",
    "                      binary search (O(log n)) means that it can handle large datasets much more efficiently than the linear time complexity (O(n)) \n",
    "                      of linear search.\n",
    "\n",
    "2. Sorted Data Requirement:  While binary search requires the dataset to be sorted, this preprocessing step is often worthwhile for large datasets\n",
    "                      due to the substantial performance improvement in search operations.\n",
    "\n",
    "Illustrative Example:\n",
    "\n",
    "- Linear Search: In a dataset of 1,000,000 elements, linear search might require checking all 1,000,000 elements in the worst case.\n",
    "- Binary Search: In the same dataset, binary search would require only about log2(1,000,000) ≈ 20 comparisons in the worst case.\n",
    "\n",
    "### Conclusion\n",
    "Binary search is faster than linear search for large datasets due to its logarithmic time complexity. However, it requires the dataset to be sorted.\n",
    "For small or unsorted datasets, linear search may be sufficient and easier to implement. When dealing with large, sorted datasets, binary search is \n",
    "the preferred choice for efficient searching.\n"
   ]
  },
  {
   "cell_type": "code",
   "execution_count": 1,
   "id": "0937f1ac-021c-4c3d-a920-c0c867533cdd",
   "metadata": {},
   "outputs": [],
   "source": [
    "import pandas as pd"
   ]
  },
  {
   "cell_type": "code",
   "execution_count": 2,
   "id": "0a69ffa4-3b7d-464d-a523-7311d9fe1a11",
   "metadata": {},
   "outputs": [],
   "source": [
    "data = pd.read_csv(\"C:/Users/User/OneDrive/Desktop/Informal_Settlement_Programme_-1898186875815614491.csv\")"
   ]
  },
  {
   "cell_type": "code",
   "execution_count": 3,
   "id": "a70f44dd-4a1f-4350-ae7c-ccd823c86897",
   "metadata": {},
   "outputs": [],
   "source": [
    "def linear_search(arr, target):\n",
    "    for i in range(len(arr)):\n",
    "        if arr[i] == target:\n",
    "            return i\n",
    "    return -1  \n"
   ]
  },
  {
   "cell_type": "code",
   "execution_count": 4,
   "id": "367b8e1d-d8de-46e3-b634-342d66d77c6f",
   "metadata": {},
   "outputs": [],
   "source": [
    "def binary_search(arr, target):\n",
    "    low = 0\n",
    "    high = len(arr) - 1\n",
    "    \n",
    "    while low <= high:\n",
    "        mid = (low + high) // 2\n",
    "        if arr[mid] == target:\n",
    "            return mid\n",
    "        elif arr[mid] < target:\n",
    "            low = mid + 1\n",
    "        else:\n",
    "            high = mid - 1\n",
    "    \n",
    "    return -1 "
   ]
  },
  {
   "cell_type": "code",
   "execution_count": 5,
   "id": "0e252708-51d6-4bc0-920c-6b7f13c1fb58",
   "metadata": {},
   "outputs": [],
   "source": [
    "\n",
    "target_element = 123"
   ]
  },
  {
   "cell_type": "code",
   "execution_count": 6,
   "id": "f63e8991-3c83-4097-ab56-fdc345be24f6",
   "metadata": {},
   "outputs": [],
   "source": [
    "# Convert the selected column to a list\n",
    "column_to_search = data[\"EST_HHC\"].tolist()"
   ]
  },
  {
   "cell_type": "code",
   "execution_count": 7,
   "id": "29e7afc5-2de9-42a8-8aff-dddba90a31a5",
   "metadata": {},
   "outputs": [],
   "source": [
    "# Perform linear search\n",
    "linear_result = linear_search(column_to_search, target_element)"
   ]
  },
  {
   "cell_type": "code",
   "execution_count": 8,
   "id": "55bfea1f-bd1a-4d84-a0ab-e9a8a0b4a643",
   "metadata": {},
   "outputs": [],
   "source": [
    "sorted_column = sorted(column_to_search)\n",
    "binary_result = binary_search(sorted_column, target_element)"
   ]
  },
  {
   "cell_type": "code",
   "execution_count": 9,
   "id": "1897172e-b9a9-4f8f-8b2a-2ae8ef121639",
   "metadata": {},
   "outputs": [
    {
     "name": "stdout",
     "output_type": "stream",
     "text": [
      "Linear Search Result: 398\n"
     ]
    }
   ],
   "source": [
    "print(\"Linear Search Result:\", linear_result)"
   ]
  },
  {
   "cell_type": "code",
   "execution_count": 10,
   "id": "10fbea6a-aea9-4680-981f-f5fa501d9397",
   "metadata": {},
   "outputs": [
    {
     "name": "stdout",
     "output_type": "stream",
     "text": [
      "Binary Search Result: 240\n"
     ]
    }
   ],
   "source": [
    "print(\"Binary Search Result:\", binary_result)"
   ]
  }
 ],
 "metadata": {
  "kernelspec": {
   "display_name": "Python 3 (ipykernel)",
   "language": "python",
   "name": "python3"
  },
  "language_info": {
   "codemirror_mode": {
    "name": "ipython",
    "version": 3
   },
   "file_extension": ".py",
   "mimetype": "text/x-python",
   "name": "python",
   "nbconvert_exporter": "python",
   "pygments_lexer": "ipython3",
   "version": "3.11.7"
  }
 },
 "nbformat": 4,
 "nbformat_minor": 5
}
