{
 "cells": [
  {
   "cell_type": "code",
   "execution_count": 1,
   "id": "71f6b788-12c4-469b-9976-8cd5d4ddecb3",
   "metadata": {},
   "outputs": [],
   "source": [
    "import pandas as pd\n",
    "import matplotlib.pyplot as plt\n",
    "import seaborn as sns\n",
    "import numpy as np"
   ]
  },
  {
   "cell_type": "code",
   "execution_count": 2,
   "id": "58ee3a01-d125-43d6-a6d6-94d6499955ff",
   "metadata": {},
   "outputs": [],
   "source": [
    "data = pd.read_csv(\"C:/Users/User/OneDrive/Desktop/Informal_Settlement_Programme_-1898186875815614491.csv\") "
   ]
  },
  {
   "cell_type": "code",
   "execution_count": 3,
   "id": "0bf2b316-76fd-4345-8103-fe8d74cdf4e1",
   "metadata": {},
   "outputs": [
    {
     "name": "stdout",
     "output_type": "stream",
     "text": [
      "     OBJECTID     NAME_OF_SE       ALT_NAME  \\\n",
      "0           1       Amatikwe                  \n",
      "1           2  Congo Phase 2  Congo Phase 2   \n",
      "2           3  Africa Inanda         Africa   \n",
      "3           4        Namibia                  \n",
      "4           5     Mshayazafe                  \n",
      "..        ...            ...            ...   \n",
      "561       562  Mandela Drive                  \n",
      "562       563      Ezipokini                  \n",
      "563       564       Kingrest                  \n",
      "564       565    Duma Mbhele                  \n",
      "565       566         Soweto                  \n",
      "\n",
      "                                 STREETNAME  WARD_S  \\\n",
      "0                                MR93 North  56/108   \n",
      "1                          MR93 /MR93 North   55/57   \n",
      "2                    Curnick Ndlovu Highway      55   \n",
      "3    Curnick Ndlovu Highway / Matshana Road  108/44   \n",
      "4                              Sidudla Road      55   \n",
      "..                                      ...     ...   \n",
      "561                          Horseshoe Road      32   \n",
      "562                             Sirdar road      32   \n",
      "563                          Lucas Crescent      66   \n",
      "564                            Mbele Street      69   \n",
      "565     Thirty Third Avenue / Clermont Road      92   \n",
      "\n",
      "                        PLANNING_U           LATITUDE         LONGITUDE  \\\n",
      "0                         Amatikwe  -29,6847594568261  30,9331993743659   \n",
      "1                     Inanda Congo  -29,6930565996813  30,9524428875002   \n",
      "2          Ohlange-Africa / Stop 8   -29,700492743755  30,9486579023242   \n",
      "3                   Inanda Namibia   -29,703771886581  30,9335017254606   \n",
      "4    Mshayazafe / Ohlange - Africa  -29,7066784039778  30,9469610275001   \n",
      "..                             ...                ...               ...   \n",
      "561                      Clairwood  -29,9173582920326  30,9855466864038   \n",
      "562                      Clairwood  -29,9114172952167  30,9823241207283   \n",
      "563          Fynnlands / Grosvenor  -29,9068386243348  31,0114634124573   \n",
      "564                    Lamontville  -29,9385857741353  30,9381937971102   \n",
      "565               Clermont Emngeni  -29,7954645668291  30,9075593857641   \n",
      "\n",
      "       REGION                           WATER_SUPP  \\\n",
      "0    Northern                           Standpipes   \n",
      "1    Northern                           Standpipes   \n",
      "2    Northern  Ablution Facility Taps & Standpipes   \n",
      "3    Northern  Ablution Facility Taps & Standpipes   \n",
      "4    Northern                           Standpipes   \n",
      "..        ...                                  ...   \n",
      "561  Southern                                  TBC   \n",
      "562  Southern                                  TBC   \n",
      "563  Southern                                  TBC   \n",
      "564  Southern                                  TBC   \n",
      "565   Western  Ablution Facility Taps & Standpipes   \n",
      "\n",
      "                          SANITATION           REFUSE ELECTRIC_2 UNIREFCODE  \\\n",
      "0                        Pit Privies  C&SW contractor        Yes      I0005   \n",
      "1    Ablution Facility & Pit Privies  C&SW contractor        Yes      I0037   \n",
      "2                  Ablution Facility  C&SW contractor        Yes      I0002   \n",
      "3                  Ablution Facility  C&SW contractor        Yes      I0145   \n",
      "4                        Pit Privies  C&SW contractor        Yes      I0140   \n",
      "..                               ...              ...        ...        ...   \n",
      "561                              TBC              TBC        TBC      I0930   \n",
      "562                              TBC              TBC        TBC      I0931   \n",
      "563                              TBC              TBC        TBC      I0932   \n",
      "564                              TBC              TBC        TBC      I0933   \n",
      "565                Ablution Facility  C&SW contractor        Yes      I0191   \n",
      "\n",
      "     EST_HHC NUSP_CAT   Shape__Area  Shape__Length  \n",
      "0       3250       B1  2.393433e+06   22801.689196  \n",
      "1        758       B1  2.894931e+05    4460.071000  \n",
      "2        627       B1  2.831338e+05    2289.974147  \n",
      "3       1508       B1  6.782034e+05    3987.698818  \n",
      "4        349       B1  1.393780e+05    1965.577993  \n",
      "..       ...      ...           ...            ...  \n",
      "561       31           1.060450e+03     141.739928  \n",
      "562       70           1.302296e+03     180.593328  \n",
      "563       10           3.347794e+03     259.241689  \n",
      "564       35           4.364022e+03     348.378625  \n",
      "565      337       B1  4.276046e+04    1931.699760  \n",
      "\n",
      "[566 rows x 18 columns]\n"
     ]
    }
   ],
   "source": [
    "print(data)"
   ]
  },
  {
   "cell_type": "code",
   "execution_count": 4,
   "id": "38029875-f574-461d-8cce-32b93873e3e5",
   "metadata": {},
   "outputs": [
    {
     "name": "stdout",
     "output_type": "stream",
     "text": [
      "   OBJECTID     NAME_OF_SE       ALT_NAME  \\\n",
      "0         1       Amatikwe                  \n",
      "1         2  Congo Phase 2  Congo Phase 2   \n",
      "2         3  Africa Inanda         Africa   \n",
      "3         4        Namibia                  \n",
      "4         5     Mshayazafe                  \n",
      "\n",
      "                               STREETNAME  WARD_S  \\\n",
      "0                              MR93 North  56/108   \n",
      "1                        MR93 /MR93 North   55/57   \n",
      "2                  Curnick Ndlovu Highway      55   \n",
      "3  Curnick Ndlovu Highway / Matshana Road  108/44   \n",
      "4                            Sidudla Road      55   \n",
      "\n",
      "                      PLANNING_U           LATITUDE         LONGITUDE  \\\n",
      "0                       Amatikwe  -29,6847594568261  30,9331993743659   \n",
      "1                   Inanda Congo  -29,6930565996813  30,9524428875002   \n",
      "2        Ohlange-Africa / Stop 8   -29,700492743755  30,9486579023242   \n",
      "3                 Inanda Namibia   -29,703771886581  30,9335017254606   \n",
      "4  Mshayazafe / Ohlange - Africa  -29,7066784039778  30,9469610275001   \n",
      "\n",
      "     REGION                           WATER_SUPP  \\\n",
      "0  Northern                           Standpipes   \n",
      "1  Northern                           Standpipes   \n",
      "2  Northern  Ablution Facility Taps & Standpipes   \n",
      "3  Northern  Ablution Facility Taps & Standpipes   \n",
      "4  Northern                           Standpipes   \n",
      "\n",
      "                        SANITATION           REFUSE ELECTRIC_2 UNIREFCODE  \\\n",
      "0                      Pit Privies  C&SW contractor        Yes      I0005   \n",
      "1  Ablution Facility & Pit Privies  C&SW contractor        Yes      I0037   \n",
      "2                Ablution Facility  C&SW contractor        Yes      I0002   \n",
      "3                Ablution Facility  C&SW contractor        Yes      I0145   \n",
      "4                      Pit Privies  C&SW contractor        Yes      I0140   \n",
      "\n",
      "   EST_HHC NUSP_CAT   Shape__Area  Shape__Length  \n",
      "0     3250       B1  2.393433e+06   22801.689196  \n",
      "1      758       B1  2.894931e+05    4460.071000  \n",
      "2      627       B1  2.831338e+05    2289.974147  \n",
      "3     1508       B1  6.782034e+05    3987.698818  \n",
      "4      349       B1  1.393780e+05    1965.577993  \n"
     ]
    }
   ],
   "source": [
    "print(data.head(5))"
   ]
  },
  {
   "cell_type": "code",
   "execution_count": 5,
   "id": "ee6fe13b-4423-4bef-a628-e88389ac10ff",
   "metadata": {},
   "outputs": [
    {
     "name": "stdout",
     "output_type": "stream",
     "text": [
      "     OBJECTID   NAME_OF_SE ALT_NAME                           STREETNAME  \\\n",
      "562       563    Ezipokini                                   Sirdar road   \n",
      "563       564     Kingrest                                Lucas Crescent   \n",
      "564       565  Duma Mbhele                                  Mbele Street   \n",
      "565       566       Soweto           Thirty Third Avenue / Clermont Road   \n",
      "\n",
      "    WARD_S             PLANNING_U           LATITUDE         LONGITUDE  \\\n",
      "562     32              Clairwood  -29,9114172952167  30,9823241207283   \n",
      "563     66  Fynnlands / Grosvenor  -29,9068386243348  31,0114634124573   \n",
      "564     69            Lamontville  -29,9385857741353  30,9381937971102   \n",
      "565     92       Clermont Emngeni  -29,7954645668291  30,9075593857641   \n",
      "\n",
      "       REGION                           WATER_SUPP         SANITATION  \\\n",
      "562  Southern                                  TBC                TBC   \n",
      "563  Southern                                  TBC                TBC   \n",
      "564  Southern                                  TBC                TBC   \n",
      "565   Western  Ablution Facility Taps & Standpipes  Ablution Facility   \n",
      "\n",
      "              REFUSE ELECTRIC_2 UNIREFCODE  EST_HHC NUSP_CAT   Shape__Area  \\\n",
      "562              TBC        TBC      I0931       70            1302.296447   \n",
      "563              TBC        TBC      I0932       10            3347.794217   \n",
      "564              TBC        TBC      I0933       35            4364.021873   \n",
      "565  C&SW contractor        Yes      I0191      337       B1  42760.458141   \n",
      "\n",
      "     Shape__Length  \n",
      "562     180.593328  \n",
      "563     259.241689  \n",
      "564     348.378625  \n",
      "565    1931.699760  \n"
     ]
    }
   ],
   "source": [
    "print(data.tail(4))"
   ]
  },
  {
   "cell_type": "code",
   "execution_count": 6,
   "id": "46645cd9-c83e-4838-8cf9-2546baad3106",
   "metadata": {},
   "outputs": [
    {
     "name": "stdout",
     "output_type": "stream",
     "text": [
      "OBJECTID           int64\n",
      "NAME_OF_SE        object\n",
      "ALT_NAME          object\n",
      "STREETNAME        object\n",
      "WARD_S            object\n",
      "PLANNING_U        object\n",
      "LATITUDE          object\n",
      "LONGITUDE         object\n",
      "REGION            object\n",
      "WATER_SUPP        object\n",
      "SANITATION        object\n",
      "REFUSE            object\n",
      "ELECTRIC_2        object\n",
      "UNIREFCODE        object\n",
      "EST_HHC            int64\n",
      "NUSP_CAT          object\n",
      "Shape__Area      float64\n",
      "Shape__Length    float64\n",
      "dtype: object\n"
     ]
    }
   ],
   "source": [
    "print(data.dtypes)"
   ]
  },
  {
   "cell_type": "code",
   "execution_count": 7,
   "id": "cbbb4701-4468-4653-8208-afab18970fe7",
   "metadata": {},
   "outputs": [
    {
     "name": "stdout",
     "output_type": "stream",
     "text": [
      "OBJECTID         0\n",
      "NAME_OF_SE       0\n",
      "ALT_NAME         0\n",
      "STREETNAME       0\n",
      "WARD_S           0\n",
      "PLANNING_U       0\n",
      "LATITUDE         0\n",
      "LONGITUDE        0\n",
      "REGION           0\n",
      "WATER_SUPP       0\n",
      "SANITATION       0\n",
      "REFUSE           0\n",
      "ELECTRIC_2       0\n",
      "UNIREFCODE       0\n",
      "EST_HHC          0\n",
      "NUSP_CAT         0\n",
      "Shape__Area      0\n",
      "Shape__Length    0\n",
      "dtype: int64\n"
     ]
    }
   ],
   "source": [
    "data.fillna(0, inplace=True)  \n",
    "data.dropna(inplace=True) \n",
    "data.dropna(axis=1, inplace=True) \n",
    "print(data.isnull().sum())"
   ]
  },
  {
   "cell_type": "code",
   "execution_count": 8,
   "id": "570a1b76-20ce-4683-a622-82ade36ca8fb",
   "metadata": {},
   "outputs": [],
   "source": [
    "duplicates = data.duplicated().sum()"
   ]
  },
  {
   "cell_type": "code",
   "execution_count": 9,
   "id": "50eab938-f21e-4dad-89c4-fe9a4a111d5c",
   "metadata": {},
   "outputs": [
    {
     "name": "stdout",
     "output_type": "stream",
     "text": [
      "Index(['OBJECTID', 'NAME_OF_SE', 'ALT_NAME', 'STREETNAME', 'WARD_S',\n",
      "       'PLANNING_U', 'LATITUDE', 'LONGITUDE', 'REGION', 'WATER_SUPP',\n",
      "       'SANITATION', 'REFUSE', 'ELECTRIC_2', 'UNIREFCODE', 'EST_HHC',\n",
      "       'NUSP_CAT', 'Shape__Area', 'Shape__Length'],\n",
      "      dtype='object')\n"
     ]
    }
   ],
   "source": [
    "print(data.columns)"
   ]
  },
  {
   "cell_type": "code",
   "execution_count": 10,
   "id": "67810d23-aef4-4262-a5c4-744e2936d9af",
   "metadata": {},
   "outputs": [
    {
     "name": "stdout",
     "output_type": "stream",
     "text": [
      "10188\n"
     ]
    }
   ],
   "source": [
    "print(data.size)"
   ]
  },
  {
   "cell_type": "code",
   "execution_count": 11,
   "id": "4dc1ee57-53d0-4c60-a6ae-fa4982a0f8f1",
   "metadata": {},
   "outputs": [
    {
     "name": "stdout",
     "output_type": "stream",
     "text": [
      "(566, 18)\n"
     ]
    }
   ],
   "source": [
    "print(data.shape)"
   ]
  },
  {
   "cell_type": "code",
   "execution_count": 12,
   "id": "21302251-5f46-46bd-aeec-ffc2447a78d9",
   "metadata": {},
   "outputs": [],
   "source": [
    "sliced_data = data.iloc[:1, 5:]"
   ]
  },
  {
   "cell_type": "code",
   "execution_count": 13,
   "id": "e5fce0e9-8e65-430a-a4bb-5b27e65e6f23",
   "metadata": {},
   "outputs": [
    {
     "name": "stdout",
     "output_type": "stream",
     "text": [
      "slided values are :    PLANNING_U           LATITUDE         LONGITUDE    REGION  WATER_SUPP  \\\n",
      "0   Amatikwe  -29,6847594568261  30,9331993743659  Northern  Standpipes   \n",
      "\n",
      "    SANITATION           REFUSE ELECTRIC_2 UNIREFCODE  EST_HHC NUSP_CAT  \\\n",
      "0  Pit Privies  C&SW contractor        Yes      I0005     3250       B1   \n",
      "\n",
      "    Shape__Area  Shape__Length  \n",
      "0  2.393433e+06   22801.689196  \n"
     ]
    }
   ],
   "source": [
    "print('slided values are : ',sliced_data)"
   ]
  }
 ],
 "metadata": {
  "kernelspec": {
   "display_name": "Python 3 (ipykernel)",
   "language": "python",
   "name": "python3"
  },
  "language_info": {
   "codemirror_mode": {
    "name": "ipython",
    "version": 3
   },
   "file_extension": ".py",
   "mimetype": "text/x-python",
   "name": "python",
   "nbconvert_exporter": "python",
   "pygments_lexer": "ipython3",
   "version": "3.11.7"
  }
 },
 "nbformat": 4,
 "nbformat_minor": 5
}
